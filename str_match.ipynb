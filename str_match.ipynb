{
 "cells": [
  {
   "cell_type": "code",
   "execution_count": null,
   "metadata": {},
   "outputs": [],
   "source": [
    "'''\n",
    "DATA PREPROCESSING\n",
    "1. Load data\n",
    "2. Divide data into train, validation, test with 70%, 15%, 15% respectively\n",
    "3. Tokenize and pad the data\n",
    "'''"
   ]
  },
  {
   "cell_type": "code",
   "execution_count": null,
   "metadata": {},
   "outputs": [],
   "source": [
    "'''\n",
    "MODEL TRAINING\n",
    "1. Add embedding layer\n",
    "2. Add LSTM layer\n",
    "3. Add Dense layer\n",
    "4. Compile model\n",
    "5. Fit model\n",
    "6. Save/Load model\n",
    "'''\n"
   ]
  },
  {
   "cell_type": "code",
   "execution_count": null,
   "metadata": {},
   "outputs": [],
   "source": [
    "'''\n",
    "MODEL PREDICT\n",
    "1. Load model\n",
    "2. Load data\n",
    "3. Predict\n",
    "4. Save result\n",
    "5. Analyze result\n",
    "'''"
   ]
  }
 ],
 "metadata": {
  "language_info": {
   "name": "python"
  },
  "orig_nbformat": 4
 },
 "nbformat": 4,
 "nbformat_minor": 2
}
